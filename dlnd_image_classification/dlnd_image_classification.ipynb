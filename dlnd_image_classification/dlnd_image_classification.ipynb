{
 "cells": [
  {
   "cell_type": "markdown",
   "metadata": {
    "collapsed": true,
    "deletable": true,
    "editable": true
   },
   "source": [
    "# Image Classification\n",
    "In this project, you'll classify images from the [CIFAR-10 dataset](https://www.cs.toronto.edu/~kriz/cifar.html).  The dataset consists of airplanes, dogs, cats, and other objects. You'll preprocess the images, then train a convolutional neural network on all the samples. The images need to be normalized and the labels need to be one-hot encoded.  You'll get to apply what you learned and build a convolutional, max pooling, dropout, and fully connected layers.  At the end, you'll get to see your neural network's predictions on the sample images.\n",
    "## Get the Data\n",
    "Run the following cell to download the [CIFAR-10 dataset for python](https://www.cs.toronto.edu/~kriz/cifar-10-python.tar.gz)."
   ]
  },
  {
   "cell_type": "code",
   "execution_count": 1,
   "metadata": {
    "collapsed": false,
    "deletable": true,
    "editable": true
   },
   "outputs": [
    {
     "name": "stdout",
     "output_type": "stream",
     "text": [
      "All files found!\n"
     ]
    }
   ],
   "source": [
    "\"\"\"\n",
    "DON'T MODIFY ANYTHING IN THIS CELL THAT IS BELOW THIS LINE\n",
    "\"\"\"\n",
    "from urllib.request import urlretrieve\n",
    "from os.path import isfile, isdir\n",
    "from tqdm import tqdm\n",
    "import problem_unittests as tests\n",
    "import tarfile\n",
    "\n",
    "cifar10_dataset_folder_path = 'cifar-10-batches-py'\n",
    "\n",
    "class DLProgress(tqdm):\n",
    "    last_block = 0\n",
    "\n",
    "    def hook(self, block_num=1, block_size=1, total_size=None):\n",
    "        self.total = total_size\n",
    "        self.update((block_num - self.last_block) * block_size)\n",
    "        self.last_block = block_num\n",
    "\n",
    "if not isfile('cifar-10-python.tar.gz'):\n",
    "    with DLProgress(unit='B', unit_scale=True, miniters=1, desc='CIFAR-10 Dataset') as pbar:\n",
    "        urlretrieve(\n",
    "            'https://www.cs.toronto.edu/~kriz/cifar-10-python.tar.gz',\n",
    "            'cifar-10-python.tar.gz',\n",
    "            pbar.hook)\n",
    "\n",
    "if not isdir(cifar10_dataset_folder_path):\n",
    "    with tarfile.open('cifar-10-python.tar.gz') as tar:\n",
    "        tar.extractall()\n",
    "        tar.close()\n",
    "\n",
    "\n",
    "tests.test_folder_path(cifar10_dataset_folder_path)"
   ]
  },
  {
   "cell_type": "markdown",
   "metadata": {
    "deletable": true,
    "editable": true
   },
   "source": [
    "## Explore the Data\n",
    "The dataset is broken into batches to prevent your machine from running out of memory.  The CIFAR-10 dataset consists of 5 batches, named `data_batch_1`, `data_batch_2`, etc.. Each batch contains the labels and images that are one of the following:\n",
    "* airplane\n",
    "* automobile\n",
    "* bird\n",
    "* cat\n",
    "* deer\n",
    "* dog\n",
    "* frog\n",
    "* horse\n",
    "* ship\n",
    "* truck\n",
    "\n",
    "Understanding a dataset is part of making predictions on the data.  Play around with the code cell below by changing the `batch_id` and `sample_id`. The `batch_id` is the id for a batch (1-5). The `sample_id` is the id for a image and label pair in the batch.\n",
    "\n",
    "Ask yourself \"What are all possible labels?\", \"What is the range of values for the image data?\", \"Are the labels in order or random?\".  Answers to questions like these will help you preprocess the data and end up with better predictions."
   ]
  },
  {
   "cell_type": "code",
   "execution_count": 2,
   "metadata": {
    "collapsed": false,
    "deletable": true,
    "editable": true
   },
   "outputs": [
    {
     "name": "stdout",
     "output_type": "stream",
     "text": [
      "\n",
      "Stats of batch 1:\n",
      "Samples: 10000\n",
      "Label Counts: {0: 1005, 1: 974, 2: 1032, 3: 1016, 4: 999, 5: 937, 6: 1030, 7: 1001, 8: 1025, 9: 981}\n",
      "First 20 Labels: [6, 9, 9, 4, 1, 1, 2, 7, 8, 3, 4, 7, 7, 2, 9, 9, 9, 3, 2, 6]\n",
      "\n",
      "Example of Image 5:\n",
      "Image - Min Value: 0 Max Value: 252\n",
      "Image - Shape: (32, 32, 3)\n",
      "Label - Label Id: 1 Name: automobile\n"
     ]
    },
    {
     "data": {
      "image/png": "[encoded data removed]",
      "text/plain": [
       "<matplotlib.figure.Figure at 0x7f578e70ce80>"
      ]
     },
     "metadata": {
      "image/png": {
       "height": 250,
       "width": 253
      }
     },
     "output_type": "display_data"
    }
   ],
   "source": [
    "%matplotlib inline\n",
    "%config InlineBackend.figure_format = 'retina'\n",
    "\n",
    "import helper\n",
    "import numpy as np\n",
    "\n",
    "# Explore the dataset\n",
    "batch_id = 1\n",
    "sample_id = 5\n",
    "helper.display_stats(cifar10_dataset_folder_path, batch_id, sample_id)"
   ]
  },
  {
   "cell_type": "markdown",
   "metadata": {
    "deletable": true,
    "editable": true
   },
   "source": [
    "## Implement Preprocess Functions\n",
    "### Normalize\n",
    "In the cell below, implement the `normalize` function to take in image data, `x`, and return it as a normalized Numpy array. The values should be in the range of 0 to 1, inclusive.  The return object should be the same shape as `x`."
   ]
  },
  {
   "cell_type": "code",
   "execution_count": 3,
   "metadata": {
    "collapsed": false,
    "deletable": true,
    "editable": true
   },
   "outputs": [
    {
     "name": "stdout",
     "output_type": "stream",
     "text": [
      "Tests Passed\n"
     ]
    }
   ],
   "source": [
    "def normalize(x):\n",
    "    \"\"\"\n",
    "    Normalize a list of sample image data in the range of 0 to 1\n",
    "    : x: List of image data.  The image shape is (32, 32, 3)\n",
    "    : return: Numpy array of normalize data\n",
    "    \"\"\"\n",
    "    result_array = (x - np.min(x)) / np.ptp(x)\n",
    "    return result_array\n",
    "\n",
    "\n",
    "\"\"\"\n",
    "DON'T MODIFY ANYTHING IN THIS CELL THAT IS BELOW THIS LINE\n",
    "\"\"\"\n",
    "tests.test_normalize(normalize)"
   ]
  },
  {
   "cell_type": "markdown",
   "metadata": {
    "deletable": true,
    "editable": true
   },
   "source": [
    "### One-hot encode\n",
    "Just like the previous code cell, you'll be implementing a function for preprocessing.  This time, you'll implement the `one_hot_encode` function. The input, `x`, are a list of labels.  Implement the function to return the list of labels as One-Hot encoded Numpy array.  The possible values for labels are 0 to 9. The one-hot encoding function should return the same encoding for each value between each call to `one_hot_encode`.  Make sure to save the map of encodings outside the function.\n",
    "\n",
    "Hint: Don't reinvent the wheel."
   ]
  },
  {
   "cell_type": "code",
   "execution_count": 4,
   "metadata": {
    "collapsed": false,
    "deletable": true,
    "editable": true
   },
   "outputs": [
    {
     "name": "stdout",
     "output_type": "stream",
     "text": [
      "Tests Passed\n"
     ]
    }
   ],
   "source": [
    "def one_hot_encode(x):\n",
    "    \"\"\"\n",
    "    One hot encode a list of sample labels. Return a one-hot encoded vector for each label.\n",
    "    : x: List of sample Labels\n",
    "    : return: Numpy array of one-hot encoded labels\n",
    "    \"\"\"\n",
    "    # TODO: Implement Function\n",
    "    return np.eye(10)[x]\n",
    "\n",
    "\n",
    "\"\"\"\n",
    "DON'T MODIFY ANYTHING IN THIS CELL THAT IS BELOW THIS LINE\n",
    "\"\"\"\n",
    "tests.test_one_hot_encode(one_hot_encode)"
   ]
  },
  {
   "cell_type": "markdown",
   "metadata": {
    "deletable": true,
    "editable": true
   },
   "source": [
    "### Randomize Data\n",
    "As you saw from exploring the data above, the order of the samples are randomized.  It doesn't hurt to randomize it again, but you don't need to for this dataset."
   ]
  },
  {
   "cell_type": "markdown",
   "metadata": {
    "deletable": true,
    "editable": true
   },
   "source": [
    "## Preprocess all the data and save it\n",
    "Running the code cell below will preprocess all the CIFAR-10 data and save it to file. The code below also uses 10% of the training data for validation."
   ]
  },
  {
   "cell_type": "code",
   "execution_count": 5,
   "metadata": {
    "collapsed": false,
    "deletable": true,
    "editable": true
   },
   "outputs": [],
   "source": [
    "\"\"\"\n",
    "DON'T MODIFY ANYTHING IN THIS CELL\n",
    "\"\"\"\n",
    "# Preprocess Training, Validation, and Testing Data\n",
    "helper.preprocess_and_save_data(cifar10_dataset_folder_path, normalize, one_hot_encode)"
   ]
  },
  {
   "cell_type": "markdown",
   "metadata": {
    "deletable": true,
    "editable": true
   },
   "source": [
    "# Check Point\n",
    "This is your first checkpoint.  If you ever decide to come back to this notebook or have to restart the notebook, you can start from here.  The preprocessed data has been saved to disk."
   ]
  },
  {
   "cell_type": "code",
   "execution_count": 6,
   "metadata": {
    "collapsed": true,
    "deletable": true,
    "editable": true
   },
   "outputs": [],
   "source": [
    "\"\"\"\n",
    "DON'T MODIFY ANYTHING IN THIS CELL\n",
    "\"\"\"\n",
    "import pickle\n",
    "import problem_unittests as tests\n",
    "import helper\n",
    "\n",
    "# Load the Preprocessed Validation data\n",
    "valid_features, valid_labels = pickle.load(open('preprocess_validation.p', mode='rb'))"
   ]
  },
  {
   "cell_type": "markdown",
   "metadata": {
    "deletable": true,
    "editable": true
   },
   "source": [
    "## Build the network\n",
    "For the neural network, you'll build each layer into a function.  Most of the code you've seen has been outside of functions. To test your code more thoroughly, we require that you put each layer in a function.  This allows us to give you better feedback and test for simple mistakes using our unittests before you submit your project.\n",
    "\n",
    ">**Note:** If you're finding it hard to dedicate enough time for this course each week, we've provided a small shortcut to this part of the project. In the next couple of problems, you'll have the option to use classes from the [TensorFlow Layers](https://www.tensorflow.org/api_docs/python/tf/layers) or [TensorFlow Layers (contrib)](https://www.tensorflow.org/api_guides/python/contrib.layers) packages to build each layer, except the layers you build in the \"Convolutional and Max Pooling Layer\" section.  TF Layers is similar to Keras's and TFLearn's abstraction to layers, so it's easy to pickup.\n",
    "\n",
    ">However, if you would like to get the most out of this course, try to solve all the problems _without_ using anything from the TF Layers packages. You **can** still use classes from other packages that happen to have the same name as ones you find in TF Layers! For example, instead of using the TF Layers version of the `conv2d` class, [tf.layers.conv2d](https://www.tensorflow.org/api_docs/python/tf/layers/conv2d), you would want to use the TF Neural Network version of `conv2d`, [tf.nn.conv2d](https://www.tensorflow.org/api_docs/python/tf/nn/conv2d). \n",
    "\n",
    "Let's begin!\n",
    "\n",
    "### Input\n",
    "The neural network needs to read the image data, one-hot encoded labels, and dropout keep probability. Implement the following functions\n",
    "* Implement `neural_net_image_input`\n",
    " * Return a [TF Placeholder](https://www.tensorflow.org/api_docs/python/tf/placeholder)\n",
    " * Set the shape using `image_shape` with batch size set to `None`.\n",
    " * Name the TensorFlow placeholder \"x\" using the TensorFlow `name` parameter in the [TF Placeholder](https://www.tensorflow.org/api_docs/python/tf/placeholder).\n",
    "* Implement `neural_net_label_input`\n",
    " * Return a [TF Placeholder](https://www.tensorflow.org/api_docs/python/tf/placeholder)\n",
    " * Set the shape using `n_classes` with batch size set to `None`.\n",
    " * Name the TensorFlow placeholder \"y\" using the TensorFlow `name` parameter in the [TF Placeholder](https://www.tensorflow.org/api_docs/python/tf/placeholder).\n",
    "* Implement `neural_net_keep_prob_input`\n",
    " * Return a [TF Placeholder](https://www.tensorflow.org/api_docs/python/tf/placeholder) for dropout keep probability.\n",
    " * Name the TensorFlow placeholder \"keep_prob\" using the TensorFlow `name` parameter in the [TF Placeholder](https://www.tensorflow.org/api_docs/python/tf/placeholder).\n",
    "\n",
    "These names will be used at the end of the project to load your saved model.\n",
    "\n",
    "Note: `None` for shapes in TensorFlow allow for a dynamic size."
   ]
  },
  {
   "cell_type": "code",
   "execution_count": 7,
   "metadata": {
    "collapsed": false,
    "deletable": true,
    "editable": true
   },
   "outputs": [
    {
     "name": "stdout",
     "output_type": "stream",
     "text": [
      "Image Input Tests Passed.\n",
      "Label Input Tests Passed.\n",
      "Keep Prob Tests Passed.\n"
     ]
    }
   ],
   "source": [
    "import tensorflow as tf\n",
    "\n",
    "def neural_net_image_input(image_shape):\n",
    "    \"\"\"\n",
    "    Return a Tensor for a bach of image input\n",
    "    : image_shape: Shape of the images\n",
    "    : return: Tensor for image input.\n",
    "    \"\"\"\n",
    "    # TODO: Implement Function\n",
    "    return tf.placeholder(tf.float32, shape=[None, image_shape[0], image_shape[1], image_shape[2]], name=\"x\")\n",
    "\n",
    "\n",
    "def neural_net_label_input(n_classes):\n",
    "    \"\"\"\n",
    "    Return a Tensor for a batch of label input\n",
    "    : n_classes: Number of classes\n",
    "    : return: Tensor for label input.\n",
    "    \"\"\"\n",
    "    # TODO: Implement Function\n",
    "    return tf.placeholder(tf.float32, [None, n_classes], name=\"y\")\n",
    "\n",
    "\n",
    "def neural_net_keep_prob_input():\n",
    "    \"\"\"\n",
    "    Return a Tensor for keep probability\n",
    "    : return: Tensor for keep probability.\n",
    "    \"\"\"\n",
    "    # TODO: Implement Function\n",
    "    return tf.placeholder(tf.float32, name=\"keep_prob\")\n",
    "\n",
    "\n",
    "\"\"\"\n",
    "DON'T MODIFY ANYTHING IN THIS CELL THAT IS BELOW THIS LINE\n",
    "\"\"\"\n",
    "tf.reset_default_graph()\n",
    "tests.test_nn_image_inputs(neural_net_image_input)\n",
    "tests.test_nn_label_inputs(neural_net_label_input)\n",
    "tests.test_nn_keep_prob_inputs(neural_net_keep_prob_input)"
   ]
  },
  {
   "cell_type": "markdown",
   "metadata": {
    "deletable": true,
    "editable": true
   },
   "source": [
    "### Convolution and Max Pooling Layer\n",
    "Convolution layers have a lot of success with images. For this code cell, you should implement the function `conv2d_maxpool` to apply convolution then max pooling:\n",
    "* Create the weight and bias using `conv_ksize`, `conv_num_outputs` and the shape of `x_tensor`.\n",
    "* Apply a convolution to `x_tensor` using weight and `conv_strides`.\n",
    " * We recommend you use same padding, but you're welcome to use any padding.\n",
    "* Add bias\n",
    "* Add a nonlinear activation to the convolution.\n",
    "* Apply Max Pooling using `pool_ksize` and `pool_strides`.\n",
    " * We recommend you use same padding, but you're welcome to use any padding.\n",
    "\n",
    "**Note:** You **can't** use [TensorFlow Layers](https://www.tensorflow.org/api_docs/python/tf/layers) or [TensorFlow Layers (contrib)](https://www.tensorflow.org/api_guides/python/contrib.layers) for **this** layer, but you can still use TensorFlow's [Neural Network](https://www.tensorflow.org/api_docs/python/tf/nn) package. You may still use the shortcut option for all the **other** layers."
   ]
  },
  {
   "cell_type": "code",
   "execution_count": 8,
   "metadata": {
    "collapsed": false,
    "deletable": true,
    "editable": true
   },
   "outputs": [
    {
     "name": "stdout",
     "output_type": "stream",
     "text": [
      "Tests Passed\n"
     ]
    }
   ],
   "source": [
    "def conv2d_maxpool(x_tensor, conv_num_outputs, conv_ksize, conv_strides, pool_ksize, pool_strides):\n",
    "    \"\"\"\n",
    "    Apply convolution then max pooling to x_tensor\n",
    "    :param x_tensor: TensorFlow Tensor\n",
    "    :param conv_num_outputs: Number of outputs for the convolutional layer\n",
    "    :param conv_ksize: kernal size 2-D Tuple for the convolutional layer\n",
    "    :param conv_strides: Stride 2-D Tuple for convolution\n",
    "    :param pool_ksize: kernal size 2-D Tuple for pool\n",
    "    :param pool_strides: Stride 2-D Tuple for pool\n",
    "    : return: A tensor that represents convolution and max pooling of x_tensor\n",
    "    \"\"\"\n",
    "     # TODO: Implement Function\n",
    "    # Weight and bias\n",
    "    weight = tf.Variable(tf.truncated_normal([conv_ksize[0], conv_ksize[1],  x_tensor.get_shape().as_list()[-1], conv_num_outputs]))\n",
    "    bias = tf.Variable(tf.zeros(conv_num_outputs))\n",
    "    # Apply Convolution\n",
    "    conv_layer = tf.nn.conv2d(x_tensor, weight, strides=[1, conv_strides[0], conv_strides[1], 1], padding='SAME')\n",
    "    # Add bias\n",
    "    conv_layer = tf.nn.bias_add(conv_layer, bias)\n",
    "    # Apply activation function\n",
    "    conv_layer = tf.nn.relu(conv_layer)\n",
    "    \n",
    "    return tf.nn.max_pool(conv_layer, ksize=[1, pool_ksize[0], pool_ksize[1], 1], strides=[1, pool_strides[0], pool_strides[1], 1], padding='SAME')\n",
    "\n",
    "\n",
    "\"\"\"\n",
    "DON'T MODIFY ANYTHING IN THIS CELL THAT IS BELOW THIS LINE\n",
    "\"\"\"\n",
    "tests.test_con_pool(conv2d_maxpool)"
   ]
  },
  {
   "cell_type": "markdown",
   "metadata": {
    "deletable": true,
    "editable": true
   },
   "source": [
    "### Flatten Layer\n",
    "Implement the `flatten` function to change the dimension of `x_tensor` from a 4-D tensor to a 2-D tensor.  The output should be the shape (*Batch Size*, *Flattened Image Size*). Shortcut option: you can use classes from the [TensorFlow Layers](https://www.tensorflow.org/api_docs/python/tf/layers) or [TensorFlow Layers (contrib)](https://www.tensorflow.org/api_guides/python/contrib.layers) packages for this layer. For more of a challenge, only use other TensorFlow packages."
   ]
  },
  {
   "cell_type": "code",
   "execution_count": 9,
   "metadata": {
    "collapsed": false,
    "deletable": true,
    "editable": true
   },
   "outputs": [
    {
     "name": "stdout",
     "output_type": "stream",
     "text": [
      "Tests Passed\n"
     ]
    }
   ],
   "source": [
    "def flatten(x_tensor):\n",
    "    \"\"\"\n",
    "    Flatten x_tensor to (Batch Size, Flattened Image Size)\n",
    "    : x_tensor: A tensor of size (Batch Size, ...), where ... are the image dimensions.\n",
    "    : return: A tensor of size (Batch Size, Flattened Image Size).\n",
    "    \"\"\"\n",
    "    # TODO: Implement Function\n",
    "    shape = x_tensor.get_shape().as_list()\n",
    "    dimension = np.prod(shape[1:])\n",
    "    return tf.reshape(x_tensor, [-1, dimension])\n",
    "\n",
    "\n",
    "\"\"\"\n",
    "DON'T MODIFY ANYTHING IN THIS CELL THAT IS BELOW THIS LINE\n",
    "\"\"\"\n",
    "tests.test_flatten(flatten)"
   ]
  },
  {
   "cell_type": "markdown",
   "metadata": {
    "deletable": true,
    "editable": true
   },
   "source": [
    "### Fully-Connected Layer\n",
    "Implement the `fully_conn` function to apply a fully connected layer to `x_tensor` with the shape (*Batch Size*, *num_outputs*). Shortcut option: you can use classes from the [TensorFlow Layers](https://www.tensorflow.org/api_docs/python/tf/layers) or [TensorFlow Layers (contrib)](https://www.tensorflow.org/api_guides/python/contrib.layers) packages for this layer. For more of a challenge, only use other TensorFlow packages."
   ]
  },
  {
   "cell_type": "code",
   "execution_count": 10,
   "metadata": {
    "collapsed": false,
    "deletable": true,
    "editable": true
   },
   "outputs": [
    {
     "name": "stdout",
     "output_type": "stream",
     "text": [
      "Tests Passed\n"
     ]
    }
   ],
   "source": [
    "def fully_conn(x_tensor, num_outputs):\n",
    "    \"\"\"\n",
    "    Apply a fully connected layer to x_tensor using weight and bias\n",
    "    : x_tensor: A 2-D tensor where the first dimension is batch size.\n",
    "    : num_outputs: The number of output that the new tensor should be.\n",
    "    : return: A 2-D tensor where the second dimension is num_outputs.\n",
    "    \"\"\"\n",
    "    # TODO: Implement Function\n",
    "    data_size = x_tensor.get_shape().as_list()[1]\n",
    "    weights = tf.Variable(tf.truncated_normal([data_size, num_outputs], stddev=0.1))\n",
    "    bias = tf.Variable(tf.zeros(num_outputs))\n",
    "    \n",
    "    fc_result = tf.add(tf.matmul(x_tensor, weights), bias)\n",
    "    return tf.nn.relu(fc_result)\n",
    "\n",
    "\n",
    "\"\"\"\n",
    "DON'T MODIFY ANYTHING IN THIS CELL THAT IS BELOW THIS LINE\n",
    "\"\"\"\n",
    "tests.test_fully_conn(fully_conn)"
   ]
  },
  {
   "cell_type": "markdown",
   "metadata": {
    "deletable": true,
    "editable": true
   },
   "source": [
    "### Output Layer\n",
    "Implement the `output` function to apply a fully connected layer to `x_tensor` with the shape (*Batch Size*, *num_outputs*). Shortcut option: you can use classes from the [TensorFlow Layers](https://www.tensorflow.org/api_docs/python/tf/layers) or [TensorFlow Layers (contrib)](https://www.tensorflow.org/api_guides/python/contrib.layers) packages for this layer. For more of a challenge, only use other TensorFlow packages.\n",
    "\n",
    "**Note:** Activation, softmax, or cross entropy should **not** be applied to this."
   ]
  },
  {
   "cell_type": "code",
   "execution_count": 17,
   "metadata": {
    "collapsed": false,
    "deletable": true,
    "editable": true
   },
   "outputs": [
    {
     "name": "stdout",
     "output_type": "stream",
     "text": [
      "Tests Passed\n"
     ]
    }
   ],
   "source": [
    "def output(x_tensor, num_outputs):\n",
    "    \"\"\"\n",
    "    Apply a output layer to x_tensor using weight and bias\n",
    "    : x_tensor: A 2-D tensor where the first dimension is batch size.\n",
    "    : num_outputs: The number of output that the new tensor should be.\n",
    "    : return: A 2-D tensor where the second dimension is num_outputs.\n",
    "    \"\"\"\n",
    "    # TODO: Implement Function\n",
    "    data_size = x_tensor.get_shape().as_list()[1]\n",
    "    weights = tf.Variable(tf.truncated_normal([data_size, num_outputs], stddev=0.1))\n",
    "    bias = tf.Variable(tf.zeros(num_outputs))\n",
    "    fc_result = tf.add(tf.matmul(x_tensor, weights), bias)\n",
    "    return fc_result\n",
    "\n",
    "\n",
    "\"\"\"\n",
    "DON'T MODIFY ANYTHING IN THIS CELL THAT IS BELOW THIS LINE\n",
    "\"\"\"\n",
    "tests.test_output(output)"
   ]
  },
  {
   "cell_type": "markdown",
   "metadata": {
    "deletable": true,
    "editable": true
   },
   "source": [
    "### Create Convolutional Model\n",
    "Implement the function `conv_net` to create a convolutional neural network model. The function takes in a batch of images, `x`, and outputs logits.  Use the layers you created above to create this model:\n",
    "\n",
    "* Apply 1, 2, or 3 Convolution and Max Pool layers\n",
    "* Apply a Flatten Layer\n",
    "* Apply 1, 2, or 3 Fully Connected Layers\n",
    "* Apply an Output Layer\n",
    "* Return the output\n",
    "* Apply [TensorFlow's Dropout](https://www.tensorflow.org/api_docs/python/tf/nn/dropout) to one or more layers in the model using `keep_prob`. "
   ]
  },
  {
   "cell_type": "markdown",
   "metadata": {
    "deletable": true,
    "editable": true
   },
   "source": [
    "## Train the Neural Network\n",
    "### Single Optimization\n",
    "Implement the function `train_neural_network` to do a single optimization.  The optimization should use `optimizer` to optimize in `session` with a `feed_dict` of the following:\n",
    "* `x` for image input\n",
    "* `y` for labels\n",
    "* `keep_prob` for keep probability for dropout\n",
    "\n",
    "This function will be called for each batch, so `tf.global_variables_initializer()` has already been called.\n",
    "\n",
    "Note: Nothing needs to be returned. This function is only optimizing the neural network."
   ]
  },
  {
   "cell_type": "code",
   "execution_count": 228,
   "metadata": {
    "collapsed": false,
    "deletable": true,
    "editable": true
   },
   "outputs": [
    {
     "name": "stdout",
     "output_type": "stream",
     "text": [
      "Neural Network Built!\n"
     ]
    }
   ],
   "source": [
    "def conv_net(x, keep_prob):\n",
    "    \"\"\"\n",
    "    Create a convolutional neural network model\n",
    "    : x: Placeholder tensor that holds image data.\n",
    "    : keep_prob: Placeholder tensor that hold dropout keep probability.\n",
    "    : return: Tensor that represents logits\n",
    "    \"\"\"\n",
    "    num_outputs = 10\n",
    "    conv_ksize = [4,4]\n",
    "    pool_ksize = [2,2]\n",
    "    \n",
    "    conv_strides = [2,2]\n",
    "    pool_strides = [2,2]\n",
    "    \n",
    "    # TODO: Apply 1, 2, or 3 Convolution and Max Pool layers\n",
    "    #    Play around with different number of outputs, kernel size and stride\n",
    "    # Function Definition from Above:\n",
    "    x_tensor = conv2d_maxpool(x, num_outputs, conv_ksize, conv_strides, pool_ksize, pool_strides)\n",
    "    x_tensor = tf.nn.dropout(x_tensor, keep_prob)\n",
    "    \n",
    "    # TODO: Apply a Flatten Layer\n",
    "    # Function Definition from Above:\n",
    "    x_tensor = flatten(x_tensor)\n",
    "\n",
    "    # TODO: Apply 1, 2, or 3 Fully Connected Layers\n",
    "    #    Play around with different number of outputs\n",
    "    # Function Definition from Above:\n",
    "    x_tensor = fully_conn(x_tensor, num_outputs)\n",
    "    x_tensor = fully_conn(x_tensor, num_outputs)\n",
    "    \n",
    "    \n",
    "    # TODO: Apply an Output Layer\n",
    "    #    Set this to the number of classes\n",
    "    # Function Definition from Above:\n",
    "    out = output(x_tensor, num_outputs)\n",
    "    \n",
    "    \n",
    "    # TODO: return output\n",
    "    return out\n",
    "\n",
    "\n",
    "\"\"\"\n",
    "DON'T MODIFY ANYTHING IN THIS CELL THAT IS BELOW THIS LINE\n",
    "\"\"\"\n",
    "\n",
    "##############################\n",
    "## Build the Neural Network ##\n",
    "##############################\n",
    "\n",
    "# Remove previous weights, bias, inputs, etc..\n",
    "tf.reset_default_graph()\n",
    "\n",
    "# Inputs\n",
    "x = neural_net_image_input((32, 32, 3))\n",
    "y = neural_net_label_input(10)\n",
    "keep_prob = neural_net_keep_prob_input()\n",
    "\n",
    "# Model\n",
    "logits = conv_net(x, keep_prob)\n",
    "\n",
    "# Name logits Tensor, so that is can be loaded from disk after training\n",
    "logits = tf.identity(logits, name='logits')\n",
    "\n",
    "# Loss and Optimizer\n",
    "cost = tf.reduce_mean(tf.nn.softmax_cross_entropy_with_logits(logits=logits, labels=y))\n",
    "optimizer = tf.train.AdamOptimizer().minimize(cost)\n",
    "\n",
    "# Accuracy\n",
    "correct_pred = tf.equal(tf.argmax(logits, 1), tf.argmax(y, 1))\n",
    "accuracy = tf.reduce_mean(tf.cast(correct_pred, tf.float32), name='accuracy')\n",
    "\n",
    "tests.test_conv_net(conv_net)"
   ]
  },
  {
   "cell_type": "code",
   "execution_count": 229,
   "metadata": {
    "collapsed": false,
    "deletable": true,
    "editable": true
   },
   "outputs": [
    {
     "name": "stdout",
     "output_type": "stream",
     "text": [
      "Tests Passed\n"
     ]
    }
   ],
   "source": [
    "def train_neural_network(session, optimizer, keep_probability, feature_batch, label_batch):\n",
    "    \"\"\"\n",
    "    Optimize the session on a batch of images and labels\n",
    "    : session: Current TensorFlow session\n",
    "    : optimizer: TensorFlow optimizer function\n",
    "    : keep_probability: keep probability\n",
    "    : feature_batch: Batch of Numpy image data\n",
    "    : label_batch: Batch of Numpy label data\n",
    "    \"\"\"\n",
    "    # TODO: Implement Function\n",
    "    local_feed_dict = {x: feature_batch, y: label_batch, keep_prob: keep_probability}\n",
    "    session.run(optimizer, feed_dict=local_feed_dict)\n",
    "\n",
    "\n",
    "\"\"\"\n",
    "DON'T MODIFY ANYTHING IN THIS CELL THAT IS BELOW THIS LINE\n",
    "\"\"\"\n",
    "tests.test_train_nn(train_neural_network)"
   ]
  },
  {
   "cell_type": "markdown",
   "metadata": {
    "deletable": true,
    "editable": true
   },
   "source": [
    "### Show Stats\n",
    "Implement the function `print_stats` to print loss and validation accuracy.  Use the global variables `valid_features` and `valid_labels` to calculate validation accuracy.  Use a keep probability of `1.0` to calculate the loss and validation accuracy."
   ]
  },
  {
   "cell_type": "code",
   "execution_count": 230,
   "metadata": {
    "collapsed": false,
    "deletable": true,
    "editable": true
   },
   "outputs": [],
   "source": [
    "def print_stats(session, feature_batch, label_batch, cost, accuracy):\n",
    "    \"\"\"\n",
    "    Print information about loss and validation accuracy\n",
    "    : session: Current TensorFlow session\n",
    "    : feature_batch: Batch of Numpy image data\n",
    "    : label_batch: Batch of Numpy label data\n",
    "    : cost: TensorFlow cost function\n",
    "    : accuracy: TensorFlow accuracy function\n",
    "    \"\"\"\n",
    "    # TODO: Implement Function\n",
    "    keep_probability = 1.0\n",
    "    looss_feed_dict = {x: feature_batch, y: label_batch, keep_prob: keep_probability}\n",
    "    loss = session.run(cost, feed_dict=looss_feed_dict)\n",
    "    accuracy_feed_dict = {x: valid_features, y: valid_labels, keep_prob: keep_probability}\n",
    "    accuracy = session.run(accuracy, feed_dict=accuracy_feed_dict)\n",
    "    print(\"Loss: {}\".format(loss))\n",
    "    print(\"Accuracy: {}\".format(accuracy))"
   ]
  },
  {
   "cell_type": "markdown",
   "metadata": {
    "deletable": true,
    "editable": true
   },
   "source": [
    "### Hyperparameters\n",
    "Tune the following parameters:\n",
    "* Set `epochs` to the number of iterations until the network stops learning or start overfitting\n",
    "* Set `batch_size` to the highest number that your machine has memory for.  Most people set them to common sizes of memory:\n",
    " * 64\n",
    " * 128\n",
    " * 256\n",
    " * ...\n",
    "* Set `keep_probability` to the probability of keeping a node using dropout"
   ]
  },
  {
   "cell_type": "code",
   "execution_count": 264,
   "metadata": {
    "collapsed": true,
    "deletable": true,
    "editable": true
   },
   "outputs": [],
   "source": [
    "# TODO: Tune Parameters\n",
    "epochs = 40\n",
    "batch_size = 64\n",
    "keep_probability = 0.67"
   ]
  },
  {
   "cell_type": "markdown",
   "metadata": {
    "deletable": true,
    "editable": true
   },
   "source": [
    "### Train on a Single CIFAR-10 Batch\n",
    "Instead of training the neural network on all the CIFAR-10 batches of data, let's use a single batch. This should save time while you iterate on the model to get a better accuracy.  Once the final validation accuracy is 50% or greater, run the model on all the data in the next section."
   ]
  },
  {
   "cell_type": "code",
   "execution_count": 265,
   "metadata": {
    "collapsed": false,
    "deletable": true,
    "editable": true,
    "scrolled": true
   },
   "outputs": [
    {
     "name": "stdout",
     "output_type": "stream",
     "text": [
      "Checking the Training on a Single Batch...\n",
      "Epoch  1, CIFAR-10 Batch 1:  Loss: 2.24828839302063\n",
      "Accuracy: 0.17319998145103455\n",
      "Epoch  2, CIFAR-10 Batch 1:  Loss: 2.2721948623657227\n",
      "Accuracy: 0.22619998455047607\n",
      "Epoch  3, CIFAR-10 Batch 1:  Loss: 2.2303571701049805\n",
      "Accuracy: 0.27799999713897705\n",
      "Epoch  4, CIFAR-10 Batch 1:  Loss: 2.154371500015259\n",
      "Accuracy: 0.3073999881744385\n",
      "Epoch  5, CIFAR-10 Batch 1:  Loss: 2.088719367980957\n",
      "Accuracy: 0.33399999141693115\n",
      "Epoch  6, CIFAR-10 Batch 1:  Loss: 2.040631055831909\n",
      "Accuracy: 0.34640002250671387\n",
      "Epoch  7, CIFAR-10 Batch 1:  Loss: 2.0038554668426514\n",
      "Accuracy: 0.3601999878883362\n",
      "Epoch  8, CIFAR-10 Batch 1:  Loss: 1.9691095352172852\n",
      "Accuracy: 0.38019996881484985\n",
      "Epoch  9, CIFAR-10 Batch 1:  Loss: 1.9087610244750977\n",
      "Accuracy: 0.39879998564720154\n",
      "Epoch 10, CIFAR-10 Batch 1:  Loss: 1.8938523530960083\n",
      "Accuracy: 0.40919995307922363\n",
      "Epoch 11, CIFAR-10 Batch 1:  Loss: 1.8458442687988281\n",
      "Accuracy: 0.42559996247291565\n",
      "Epoch 12, CIFAR-10 Batch 1:  Loss: 1.8127634525299072\n",
      "Accuracy: 0.43459999561309814\n",
      "Epoch 13, CIFAR-10 Batch 1:  Loss: 1.7810689210891724\n",
      "Accuracy: 0.4395999610424042\n",
      "Epoch 14, CIFAR-10 Batch 1:  Loss: 1.766752004623413\n",
      "Accuracy: 0.44519996643066406\n",
      "Epoch 15, CIFAR-10 Batch 1:  Loss: 1.7409489154815674\n",
      "Accuracy: 0.44979995489120483\n",
      "Epoch 16, CIFAR-10 Batch 1:  Loss: 1.7143898010253906\n",
      "Accuracy: 0.4537999629974365\n",
      "Epoch 17, CIFAR-10 Batch 1:  Loss: 1.6844313144683838\n",
      "Accuracy: 0.4585999548435211\n",
      "Epoch 18, CIFAR-10 Batch 1:  Loss: 1.6570305824279785\n",
      "Accuracy: 0.46379998326301575\n",
      "Epoch 19, CIFAR-10 Batch 1:  Loss: 1.636080026626587\n",
      "Accuracy: 0.46879997849464417\n",
      "Epoch 20, CIFAR-10 Batch 1:  Loss: 1.6163614988327026\n",
      "Accuracy: 0.4715999662876129\n",
      "Epoch 21, CIFAR-10 Batch 1:  Loss: 1.6156961917877197\n",
      "Accuracy: 0.4755999445915222\n",
      "Epoch 22, CIFAR-10 Batch 1:  Loss: 1.5862585306167603\n",
      "Accuracy: 0.48139992356300354\n",
      "Epoch 23, CIFAR-10 Batch 1:  Loss: 1.590179443359375\n",
      "Accuracy: 0.4803999364376068\n",
      "Epoch 24, CIFAR-10 Batch 1:  Loss: 1.549782633781433\n",
      "Accuracy: 0.4837999939918518\n",
      "Epoch 25, CIFAR-10 Batch 1:  Loss: 1.5689890384674072\n",
      "Accuracy: 0.48499995470046997\n",
      "Epoch 26, CIFAR-10 Batch 1:  Loss: 1.546220064163208\n",
      "Accuracy: 0.48919999599456787\n",
      "Epoch 27, CIFAR-10 Batch 1:  Loss: 1.5459175109863281\n",
      "Accuracy: 0.4875999391078949\n",
      "Epoch 28, CIFAR-10 Batch 1:  Loss: 1.5371930599212646\n",
      "Accuracy: 0.49059996008872986\n",
      "Epoch 29, CIFAR-10 Batch 1:  Loss: 1.5192443132400513\n",
      "Accuracy: 0.4927999973297119\n",
      "Epoch 30, CIFAR-10 Batch 1:  Loss: 1.5108847618103027\n",
      "Accuracy: 0.49459993839263916\n",
      "Epoch 31, CIFAR-10 Batch 1:  Loss: 1.4910516738891602\n",
      "Accuracy: 0.4949999749660492\n",
      "Epoch 32, CIFAR-10 Batch 1:  Loss: 1.4715287685394287\n",
      "Accuracy: 0.49879997968673706\n",
      "Epoch 33, CIFAR-10 Batch 1:  Loss: 1.483551025390625\n",
      "Accuracy: 0.49699994921684265\n",
      "Epoch 34, CIFAR-10 Batch 1:  Loss: 1.4506593942642212\n",
      "Accuracy: 0.49959996342658997\n",
      "Epoch 35, CIFAR-10 Batch 1:  Loss: 1.4550600051879883\n",
      "Accuracy: 0.49699997901916504\n",
      "Epoch 36, CIFAR-10 Batch 1:  Loss: 1.452516794204712\n",
      "Accuracy: 0.5005999803543091\n",
      "Epoch 37, CIFAR-10 Batch 1:  Loss: 1.4405102729797363\n",
      "Accuracy: 0.501599907875061\n",
      "Epoch 38, CIFAR-10 Batch 1:  Loss: 1.4335895776748657\n",
      "Accuracy: 0.5007999539375305\n",
      "Epoch 39, CIFAR-10 Batch 1:  Loss: 1.43582022190094\n",
      "Accuracy: 0.5009999871253967\n",
      "Epoch 40, CIFAR-10 Batch 1:  Loss: 1.434234857559204\n",
      "Accuracy: 0.5031999349594116\n"
     ]
    }
   ],
   "source": [
    "\"\"\"\n",
    "DON'T MODIFY ANYTHING IN THIS CELL\n",
    "\"\"\"\n",
    "print('Checking the Training on a Single Batch...')\n",
    "with tf.Session() as sess:\n",
    "    # Initializing the variables\n",
    "    sess.run(tf.global_variables_initializer())\n",
    "    \n",
    "    # Training cycle\n",
    "    for epoch in range(epochs):\n",
    "        batch_i = 1\n",
    "        for batch_features, batch_labels in helper.load_preprocess_training_batch(batch_i, batch_size):\n",
    "            train_neural_network(sess, optimizer, keep_probability, batch_features, batch_labels)\n",
    "        print('Epoch {:>2}, CIFAR-10 Batch {}:  '.format(epoch + 1, batch_i), end='')\n",
    "        print_stats(sess, batch_features, batch_labels, cost, accuracy)"
   ]
  },
  {
   "cell_type": "markdown",
   "metadata": {
    "deletable": true,
    "editable": true
   },
   "source": [
    "### Fully Train the Model\n",
    "Now that you got a good accuracy with a single CIFAR-10 batch, try it with all five batches."
   ]
  },
  {
   "cell_type": "code",
   "execution_count": 266,
   "metadata": {
    "collapsed": false,
    "deletable": true,
    "editable": true
   },
   "outputs": [
    {
     "name": "stdout",
     "output_type": "stream",
     "text": [
      "Training...\n",
      "Epoch  1, CIFAR-10 Batch 1:  Loss: 2.212841749191284\n",
      "Accuracy: 0.21479998528957367\n",
      "Epoch  1, CIFAR-10 Batch 2:  Loss: 2.0110678672790527\n",
      "Accuracy: 0.2694000005722046\n",
      "Epoch  1, CIFAR-10 Batch 3:  Loss: 1.7592823505401611\n",
      "Accuracy: 0.2895999550819397\n",
      "Epoch  1, CIFAR-10 Batch 4:  Loss: 1.8143641948699951\n",
      "Accuracy: 0.3025999963283539\n",
      "Epoch  1, CIFAR-10 Batch 5:  Loss: 1.7876118421554565\n",
      "Accuracy: 0.31800001859664917\n",
      "Epoch  2, CIFAR-10 Batch 1:  Loss: 2.0690929889678955\n",
      "Accuracy: 0.3335999846458435\n",
      "Epoch  2, CIFAR-10 Batch 2:  Loss: 1.8275188207626343\n",
      "Accuracy: 0.35260000824928284\n",
      "Epoch  2, CIFAR-10 Batch 3:  Loss: 1.6016395092010498\n",
      "Accuracy: 0.36559998989105225\n",
      "Epoch  2, CIFAR-10 Batch 4:  Loss: 1.6884065866470337\n",
      "Accuracy: 0.38019996881484985\n",
      "Epoch  2, CIFAR-10 Batch 5:  Loss: 1.6540310382843018\n",
      "Accuracy: 0.3835999667644501\n",
      "Epoch  3, CIFAR-10 Batch 1:  Loss: 2.034662961959839\n",
      "Accuracy: 0.38679999113082886\n",
      "Epoch  3, CIFAR-10 Batch 2:  Loss: 1.7522356510162354\n",
      "Accuracy: 0.3937999904155731\n",
      "Epoch  3, CIFAR-10 Batch 3:  Loss: 1.4901542663574219\n",
      "Accuracy: 0.38899996876716614\n",
      "Epoch  3, CIFAR-10 Batch 4:  Loss: 1.6340417861938477\n",
      "Accuracy: 0.40299996733665466\n",
      "Epoch  3, CIFAR-10 Batch 5:  Loss: 1.5976742506027222\n",
      "Accuracy: 0.40299996733665466\n",
      "Epoch  4, CIFAR-10 Batch 1:  Loss: 1.9107081890106201\n",
      "Accuracy: 0.4032000005245209\n",
      "Epoch  4, CIFAR-10 Batch 2:  Loss: 1.6916334629058838\n",
      "Accuracy: 0.4123999774456024\n",
      "Epoch  4, CIFAR-10 Batch 3:  Loss: 1.3972395658493042\n",
      "Accuracy: 0.40639999508857727\n",
      "Epoch  4, CIFAR-10 Batch 4:  Loss: 1.5986353158950806\n",
      "Accuracy: 0.4155999422073364\n",
      "Epoch  4, CIFAR-10 Batch 5:  Loss: 1.5715922117233276\n",
      "Accuracy: 0.41599997878074646\n",
      "Epoch  5, CIFAR-10 Batch 1:  Loss: 1.7929174900054932\n",
      "Accuracy: 0.4253999590873718\n",
      "Epoch  5, CIFAR-10 Batch 2:  Loss: 1.6744718551635742\n",
      "Accuracy: 0.4251999855041504\n",
      "Epoch  5, CIFAR-10 Batch 3:  Loss: 1.3581187725067139\n",
      "Accuracy: 0.4169999957084656\n",
      "Epoch  5, CIFAR-10 Batch 4:  Loss: 1.543931245803833\n",
      "Accuracy: 0.42779994010925293\n",
      "Epoch  5, CIFAR-10 Batch 5:  Loss: 1.5387828350067139\n",
      "Accuracy: 0.4277999997138977\n",
      "Epoch  6, CIFAR-10 Batch 1:  Loss: 1.7263712882995605\n",
      "Accuracy: 0.4325999617576599\n",
      "Epoch  6, CIFAR-10 Batch 2:  Loss: 1.6090407371520996\n",
      "Accuracy: 0.43119996786117554\n",
      "Epoch  6, CIFAR-10 Batch 3:  Loss: 1.2883543968200684\n",
      "Accuracy: 0.43639999628067017\n",
      "Epoch  6, CIFAR-10 Batch 4:  Loss: 1.5066367387771606\n",
      "Accuracy: 0.43939995765686035\n",
      "Epoch  6, CIFAR-10 Batch 5:  Loss: 1.5351552963256836\n",
      "Accuracy: 0.43699997663497925\n",
      "Epoch  7, CIFAR-10 Batch 1:  Loss: 1.662363052368164\n",
      "Accuracy: 0.4505999684333801\n",
      "Epoch  7, CIFAR-10 Batch 2:  Loss: 1.5605907440185547\n",
      "Accuracy: 0.44620001316070557\n",
      "Epoch  7, CIFAR-10 Batch 3:  Loss: 1.2367439270019531\n",
      "Accuracy: 0.44439998269081116\n",
      "Epoch  7, CIFAR-10 Batch 4:  Loss: 1.469435691833496\n",
      "Accuracy: 0.44739991426467896\n",
      "Epoch  7, CIFAR-10 Batch 5:  Loss: 1.5080959796905518\n",
      "Accuracy: 0.4537999927997589\n",
      "Epoch  8, CIFAR-10 Batch 1:  Loss: 1.633205533027649\n",
      "Accuracy: 0.46059995889663696\n",
      "Epoch  8, CIFAR-10 Batch 2:  Loss: 1.5368983745574951\n",
      "Accuracy: 0.45399996638298035\n",
      "Epoch  8, CIFAR-10 Batch 3:  Loss: 1.2102227210998535\n",
      "Accuracy: 0.45739999413490295\n",
      "Epoch  8, CIFAR-10 Batch 4:  Loss: 1.4242660999298096\n",
      "Accuracy: 0.4583999514579773\n",
      "Epoch  8, CIFAR-10 Batch 5:  Loss: 1.4618844985961914\n",
      "Accuracy: 0.4663999676704407\n",
      "Epoch  9, CIFAR-10 Batch 1:  Loss: 1.5950486660003662\n",
      "Accuracy: 0.46799999475479126\n",
      "Epoch  9, CIFAR-10 Batch 2:  Loss: 1.4931062459945679\n",
      "Accuracy: 0.46299993991851807\n",
      "Epoch  9, CIFAR-10 Batch 3:  Loss: 1.1991188526153564\n",
      "Accuracy: 0.4671999216079712\n",
      "Epoch  9, CIFAR-10 Batch 4:  Loss: 1.414988398551941\n",
      "Accuracy: 0.4691999554634094\n",
      "Epoch  9, CIFAR-10 Batch 5:  Loss: 1.4488171339035034\n",
      "Accuracy: 0.47439995408058167\n",
      "Epoch 10, CIFAR-10 Batch 1:  Loss: 1.5950342416763306\n",
      "Accuracy: 0.48019999265670776\n",
      "Epoch 10, CIFAR-10 Batch 2:  Loss: 1.4807803630828857\n",
      "Accuracy: 0.47419998049736023\n",
      "Epoch 10, CIFAR-10 Batch 3:  Loss: 1.1930549144744873\n",
      "Accuracy: 0.47499993443489075\n",
      "Epoch 10, CIFAR-10 Batch 4:  Loss: 1.390971064567566\n",
      "Accuracy: 0.4795999526977539\n",
      "Epoch 10, CIFAR-10 Batch 5:  Loss: 1.3949267864227295\n",
      "Accuracy: 0.4819999635219574\n",
      "Epoch 11, CIFAR-10 Batch 1:  Loss: 1.5342535972595215\n",
      "Accuracy: 0.48899996280670166\n",
      "Epoch 11, CIFAR-10 Batch 2:  Loss: 1.4485423564910889\n",
      "Accuracy: 0.4853999614715576\n",
      "Epoch 11, CIFAR-10 Batch 3:  Loss: 1.1847549676895142\n",
      "Accuracy: 0.4769999384880066\n",
      "Epoch 11, CIFAR-10 Batch 4:  Loss: 1.391454815864563\n",
      "Accuracy: 0.4813999533653259\n",
      "Epoch 11, CIFAR-10 Batch 5:  Loss: 1.4016231298446655\n",
      "Accuracy: 0.4851999282836914\n",
      "Epoch 12, CIFAR-10 Batch 1:  Loss: 1.5076954364776611\n",
      "Accuracy: 0.4973999261856079\n",
      "Epoch 12, CIFAR-10 Batch 2:  Loss: 1.4078643321990967\n",
      "Accuracy: 0.486799955368042\n",
      "Epoch 12, CIFAR-10 Batch 3:  Loss: 1.1419024467468262\n",
      "Accuracy: 0.48739999532699585\n",
      "Epoch 12, CIFAR-10 Batch 4:  Loss: 1.4068658351898193\n",
      "Accuracy: 0.4907999634742737\n",
      "Epoch 12, CIFAR-10 Batch 5:  Loss: 1.36836838722229\n",
      "Accuracy: 0.4923999607563019\n",
      "Epoch 13, CIFAR-10 Batch 1:  Loss: 1.4927312135696411\n",
      "Accuracy: 0.5011999607086182\n",
      "Epoch 13, CIFAR-10 Batch 2:  Loss: 1.3887877464294434\n",
      "Accuracy: 0.4939999580383301\n",
      "Epoch 13, CIFAR-10 Batch 3:  Loss: 1.1383781433105469\n",
      "Accuracy: 0.49299994111061096\n",
      "Epoch 13, CIFAR-10 Batch 4:  Loss: 1.3836497068405151\n",
      "Accuracy: 0.4981999099254608\n",
      "Epoch 13, CIFAR-10 Batch 5:  Loss: 1.3619707822799683\n",
      "Accuracy: 0.4997999668121338\n",
      "Epoch 14, CIFAR-10 Batch 1:  Loss: 1.4622890949249268\n",
      "Accuracy: 0.5065999627113342\n",
      "Epoch 14, CIFAR-10 Batch 2:  Loss: 1.3548418283462524\n",
      "Accuracy: 0.5033999681472778\n",
      "Epoch 14, CIFAR-10 Batch 3:  Loss: 1.1366041898727417\n",
      "Accuracy: 0.5035999417304993\n",
      "Epoch 14, CIFAR-10 Batch 4:  Loss: 1.4123241901397705\n",
      "Accuracy: 0.5059999823570251\n",
      "Epoch 14, CIFAR-10 Batch 5:  Loss: 1.3548293113708496\n",
      "Accuracy: 0.5027999877929688\n",
      "Epoch 15, CIFAR-10 Batch 1:  Loss: 1.441998839378357\n",
      "Accuracy: 0.509399950504303\n",
      "Epoch 15, CIFAR-10 Batch 2:  Loss: 1.327877402305603\n",
      "Accuracy: 0.5027999877929688\n",
      "Epoch 15, CIFAR-10 Batch 3:  Loss: 1.1025563478469849\n",
      "Accuracy: 0.5049999952316284\n",
      "Epoch 15, CIFAR-10 Batch 4:  Loss: 1.4193507432937622\n",
      "Accuracy: 0.506399929523468\n",
      "Epoch 15, CIFAR-10 Batch 5:  Loss: 1.3340134620666504\n",
      "Accuracy: 0.5011999011039734\n",
      "Epoch 16, CIFAR-10 Batch 1:  Loss: 1.426642656326294\n",
      "Accuracy: 0.5121999382972717\n",
      "Epoch 16, CIFAR-10 Batch 2:  Loss: 1.3211089372634888\n",
      "Accuracy: 0.5105999708175659\n",
      "Epoch 16, CIFAR-10 Batch 3:  Loss: 1.1131610870361328\n",
      "Accuracy: 0.507599949836731\n",
      "Epoch 16, CIFAR-10 Batch 4:  Loss: 1.4166550636291504\n",
      "Accuracy: 0.5119999647140503\n",
      "Epoch 16, CIFAR-10 Batch 5:  Loss: 1.332207441329956\n",
      "Accuracy: 0.5119999647140503\n",
      "Epoch 17, CIFAR-10 Batch 1:  Loss: 1.3833072185516357\n",
      "Accuracy: 0.5153999328613281\n",
      "Epoch 17, CIFAR-10 Batch 2:  Loss: 1.3305786848068237\n",
      "Accuracy: 0.5121999382972717\n",
      "Epoch 17, CIFAR-10 Batch 3:  Loss: 1.0903651714324951\n",
      "Accuracy: 0.5117999315261841\n",
      "Epoch 17, CIFAR-10 Batch 4:  Loss: 1.401318907737732\n",
      "Accuracy: 0.5143999457359314\n",
      "Epoch 17, CIFAR-10 Batch 5:  Loss: 1.3204779624938965\n",
      "Accuracy: 0.5130000114440918\n",
      "Epoch 18, CIFAR-10 Batch 1:  Loss: 1.3955559730529785\n",
      "Accuracy: 0.5199999213218689\n",
      "Epoch 18, CIFAR-10 Batch 2:  Loss: 1.3139457702636719\n",
      "Accuracy: 0.5169999599456787\n",
      "Epoch 18, CIFAR-10 Batch 3:  Loss: 1.0759285688400269\n",
      "Accuracy: 0.5143999457359314\n",
      "Epoch 18, CIFAR-10 Batch 4:  Loss: 1.3818844556808472\n",
      "Accuracy: 0.5169999599456787\n",
      "Epoch 18, CIFAR-10 Batch 5:  Loss: 1.2990906238555908\n",
      "Accuracy: 0.5249999761581421\n",
      "Epoch 19, CIFAR-10 Batch 1:  Loss: 1.3760768175125122\n",
      "Accuracy: 0.5189999341964722\n",
      "Epoch 19, CIFAR-10 Batch 2:  Loss: 1.3340611457824707\n",
      "Accuracy: 0.5215999484062195\n",
      "Epoch 19, CIFAR-10 Batch 3:  Loss: 1.0854218006134033\n",
      "Accuracy: 0.5161999464035034\n",
      "Epoch 19, CIFAR-10 Batch 4:  Loss: 1.3646645545959473\n",
      "Accuracy: 0.5229999423027039\n",
      "Epoch 19, CIFAR-10 Batch 5:  Loss: 1.32354736328125\n",
      "Accuracy: 0.5205999612808228\n",
      "Epoch 20, CIFAR-10 Batch 1:  Loss: 1.3669540882110596\n",
      "Accuracy: 0.519599974155426\n",
      "Epoch 20, CIFAR-10 Batch 2:  Loss: 1.286876916885376\n",
      "Accuracy: 0.5217999219894409\n",
      "Epoch 20, CIFAR-10 Batch 3:  Loss: 1.0660641193389893\n",
      "Accuracy: 0.5177999138832092\n",
      "Epoch 20, CIFAR-10 Batch 4:  Loss: 1.38057541847229\n",
      "Accuracy: 0.5257999300956726\n",
      "Epoch 20, CIFAR-10 Batch 5:  Loss: 1.3278460502624512\n",
      "Accuracy: 0.5171999335289001\n",
      "Epoch 21, CIFAR-10 Batch 1:  Loss: 1.3637491464614868\n",
      "Accuracy: 0.5203999280929565\n",
      "Epoch 21, CIFAR-10 Batch 2:  Loss: 1.2574716806411743\n",
      "Accuracy: 0.5245999693870544\n",
      "Epoch 21, CIFAR-10 Batch 3:  Loss: 1.0447990894317627\n",
      "Accuracy: 0.5183999538421631\n",
      "Epoch 21, CIFAR-10 Batch 4:  Loss: 1.3679938316345215\n",
      "Accuracy: 0.5245999097824097\n",
      "Epoch 21, CIFAR-10 Batch 5:  Loss: 1.3144325017929077\n",
      "Accuracy: 0.5249999761581421\n",
      "Epoch 22, CIFAR-10 Batch 1:  Loss: 1.36387300491333\n",
      "Accuracy: 0.527199923992157\n",
      "Epoch 22, CIFAR-10 Batch 2:  Loss: 1.2604130506515503\n",
      "Accuracy: 0.525399923324585\n",
      "Epoch 22, CIFAR-10 Batch 3:  Loss: 1.0517531633377075\n",
      "Accuracy: 0.5227999687194824\n",
      "Epoch 22, CIFAR-10 Batch 4:  Loss: 1.3569331169128418\n",
      "Accuracy: 0.5261999368667603\n",
      "Epoch 22, CIFAR-10 Batch 5:  Loss: 1.2912204265594482\n",
      "Accuracy: 0.5271999835968018\n",
      "Epoch 23, CIFAR-10 Batch 1:  Loss: 1.3258379697799683\n",
      "Accuracy: 0.5247999429702759\n",
      "Epoch 23, CIFAR-10 Batch 2:  Loss: 1.26530122756958\n",
      "Accuracy: 0.5291999578475952\n",
      "Epoch 23, CIFAR-10 Batch 3:  Loss: 1.037606120109558\n",
      "Accuracy: 0.5283999443054199\n",
      "Epoch 23, CIFAR-10 Batch 4:  Loss: 1.3637363910675049\n",
      "Accuracy: 0.5295999646186829\n",
      "Epoch 23, CIFAR-10 Batch 5:  Loss: 1.2581226825714111\n",
      "Accuracy: 0.5291999578475952\n",
      "Epoch 24, CIFAR-10 Batch 1:  Loss: 1.292633295059204\n",
      "Accuracy: 0.5235999226570129\n",
      "Epoch 24, CIFAR-10 Batch 2:  Loss: 1.2418798208236694\n",
      "Accuracy: 0.5331999659538269\n",
      "Epoch 24, CIFAR-10 Batch 3:  Loss: 1.0365544557571411\n",
      "Accuracy: 0.5287999510765076\n",
      "Epoch 24, CIFAR-10 Batch 4:  Loss: 1.329472541809082\n",
      "Accuracy: 0.5305999517440796\n",
      "Epoch 24, CIFAR-10 Batch 5:  Loss: 1.244828701019287\n",
      "Accuracy: 0.5365999937057495\n",
      "Epoch 25, CIFAR-10 Batch 1:  Loss: 1.282376766204834\n",
      "Accuracy: 0.5293999314308167\n",
      "Epoch 25, CIFAR-10 Batch 2:  Loss: 1.2444920539855957\n",
      "Accuracy: 0.5341999530792236\n",
      "Epoch 25, CIFAR-10 Batch 3:  Loss: 1.0480488538742065\n",
      "Accuracy: 0.5263999104499817\n",
      "Epoch 25, CIFAR-10 Batch 4:  Loss: 1.3337500095367432\n",
      "Accuracy: 0.5351999402046204\n",
      "Epoch 25, CIFAR-10 Batch 5:  Loss: 1.240652084350586\n",
      "Accuracy: 0.535599946975708\n",
      "Epoch 26, CIFAR-10 Batch 1:  Loss: 1.280500888824463\n",
      "Accuracy: 0.5337998867034912\n",
      "Epoch 26, CIFAR-10 Batch 2:  Loss: 1.2531486749649048\n",
      "Accuracy: 0.5335999727249146\n",
      "Epoch 26, CIFAR-10 Batch 3:  Loss: 1.0325454473495483\n",
      "Accuracy: 0.5329999923706055\n",
      "Epoch 26, CIFAR-10 Batch 4:  Loss: 1.3220229148864746\n",
      "Accuracy: 0.5377999544143677\n",
      "Epoch 26, CIFAR-10 Batch 5:  Loss: 1.246812343597412\n",
      "Accuracy: 0.533799946308136\n",
      "Epoch 27, CIFAR-10 Batch 1:  Loss: 1.2871695756912231\n",
      "Accuracy: 0.5329999327659607\n",
      "Epoch 27, CIFAR-10 Batch 2:  Loss: 1.2391295433044434\n",
      "Accuracy: 0.5359998941421509\n",
      "Epoch 27, CIFAR-10 Batch 3:  Loss: 1.0358525514602661\n",
      "Accuracy: 0.5339999198913574\n",
      "Epoch 27, CIFAR-10 Batch 4:  Loss: 1.302049160003662\n",
      "Accuracy: 0.5369999408721924\n",
      "Epoch 27, CIFAR-10 Batch 5:  Loss: 1.2438464164733887\n",
      "Accuracy: 0.5379998683929443\n",
      "Epoch 28, CIFAR-10 Batch 1:  Loss: 1.2856543064117432\n",
      "Accuracy: 0.5359999537467957\n",
      "Epoch 28, CIFAR-10 Batch 2:  Loss: 1.2198694944381714\n",
      "Accuracy: 0.5361999869346619\n",
      "Epoch 28, CIFAR-10 Batch 3:  Loss: 1.0455349683761597\n",
      "Accuracy: 0.535599946975708\n",
      "Epoch 28, CIFAR-10 Batch 4:  Loss: 1.2710490226745605\n",
      "Accuracy: 0.5371999740600586\n",
      "Epoch 28, CIFAR-10 Batch 5:  Loss: 1.2362403869628906\n",
      "Accuracy: 0.5417999029159546\n",
      "Epoch 29, CIFAR-10 Batch 1:  Loss: 1.2616620063781738\n",
      "Accuracy: 0.5405999422073364\n",
      "Epoch 29, CIFAR-10 Batch 2:  Loss: 1.2212342023849487\n",
      "Accuracy: 0.5401999950408936\n",
      "Epoch 29, CIFAR-10 Batch 3:  Loss: 1.0404765605926514\n",
      "Accuracy: 0.53739994764328\n",
      "Epoch 29, CIFAR-10 Batch 4:  Loss: 1.2732155323028564\n",
      "Accuracy: 0.5419999361038208\n",
      "Epoch 29, CIFAR-10 Batch 5:  Loss: 1.2233986854553223\n",
      "Accuracy: 0.5389998555183411\n",
      "Epoch 30, CIFAR-10 Batch 1:  Loss: 1.255344271659851\n",
      "Accuracy: 0.5399999618530273\n",
      "Epoch 30, CIFAR-10 Batch 2:  Loss: 1.2342253923416138\n",
      "Accuracy: 0.5387999415397644\n",
      "Epoch 30, CIFAR-10 Batch 3:  Loss: 1.0323173999786377\n",
      "Accuracy: 0.5353999137878418\n",
      "Epoch 30, CIFAR-10 Batch 4:  Loss: 1.2765227556228638\n",
      "Accuracy: 0.5455999374389648\n",
      "Epoch 30, CIFAR-10 Batch 5:  Loss: 1.206118106842041\n",
      "Accuracy: 0.5443999767303467\n",
      "Epoch 31, CIFAR-10 Batch 1:  Loss: 1.2538588047027588\n",
      "Accuracy: 0.5447999238967896\n",
      "Epoch 31, CIFAR-10 Batch 2:  Loss: 1.2079951763153076\n",
      "Accuracy: 0.5433999300003052\n",
      "Epoch 31, CIFAR-10 Batch 3:  Loss: 1.0288093090057373\n",
      "Accuracy: 0.5361999273300171\n",
      "Epoch 31, CIFAR-10 Batch 4:  Loss: 1.2501270771026611\n",
      "Accuracy: 0.5447999238967896\n",
      "Epoch 31, CIFAR-10 Batch 5:  Loss: 1.2331600189208984\n",
      "Accuracy: 0.5455999374389648\n",
      "Epoch 32, CIFAR-10 Batch 1:  Loss: 1.2833654880523682\n",
      "Accuracy: 0.549799919128418\n",
      "Epoch 32, CIFAR-10 Batch 2:  Loss: 1.2072784900665283\n",
      "Accuracy: 0.5445999503135681\n",
      "Epoch 32, CIFAR-10 Batch 3:  Loss: 1.0270404815673828\n",
      "Accuracy: 0.539199948310852\n",
      "Epoch 32, CIFAR-10 Batch 4:  Loss: 1.2275147438049316\n",
      "Accuracy: 0.5526000261306763\n",
      "Epoch 32, CIFAR-10 Batch 5:  Loss: 1.2152564525604248\n",
      "Accuracy: 0.544999897480011\n",
      "Epoch 33, CIFAR-10 Batch 1:  Loss: 1.2492177486419678\n",
      "Accuracy: 0.5447999238967896\n",
      "Epoch 33, CIFAR-10 Batch 2:  Loss: 1.2005231380462646\n",
      "Accuracy: 0.5437999367713928\n",
      "Epoch 33, CIFAR-10 Batch 3:  Loss: 1.0343620777130127\n",
      "Accuracy: 0.5431999564170837\n",
      "Epoch 33, CIFAR-10 Batch 4:  Loss: 1.2138888835906982\n",
      "Accuracy: 0.5519999265670776\n",
      "Epoch 33, CIFAR-10 Batch 5:  Loss: 1.2218910455703735\n",
      "Accuracy: 0.5453999042510986\n",
      "Epoch 34, CIFAR-10 Batch 1:  Loss: 1.2412997484207153\n",
      "Accuracy: 0.5441999435424805\n",
      "Epoch 34, CIFAR-10 Batch 2:  Loss: 1.2331994771957397\n",
      "Accuracy: 0.5471999645233154\n",
      "Epoch 34, CIFAR-10 Batch 3:  Loss: 1.0416501760482788\n",
      "Accuracy: 0.5541999340057373\n",
      "Epoch 34, CIFAR-10 Batch 4:  Loss: 1.2083243131637573\n",
      "Accuracy: 0.555199921131134\n",
      "Epoch 34, CIFAR-10 Batch 5:  Loss: 1.2274169921875\n",
      "Accuracy: 0.5505999326705933\n",
      "Epoch 35, CIFAR-10 Batch 1:  Loss: 1.251569151878357\n",
      "Accuracy: 0.5509999394416809\n",
      "Epoch 35, CIFAR-10 Batch 2:  Loss: 1.2464262247085571\n",
      "Accuracy: 0.5475999712944031\n",
      "Epoch 35, CIFAR-10 Batch 3:  Loss: 1.0158147811889648\n",
      "Accuracy: 0.5489999651908875\n",
      "Epoch 35, CIFAR-10 Batch 4:  Loss: 1.20367431640625\n",
      "Accuracy: 0.5625999569892883\n",
      "Epoch 35, CIFAR-10 Batch 5:  Loss: 1.2237342596054077\n",
      "Accuracy: 0.5575999617576599\n",
      "Epoch 36, CIFAR-10 Batch 1:  Loss: 1.259170651435852\n",
      "Accuracy: 0.550599992275238\n",
      "Epoch 36, CIFAR-10 Batch 2:  Loss: 1.2471873760223389\n",
      "Accuracy: 0.5539999604225159\n",
      "Epoch 36, CIFAR-10 Batch 3:  Loss: 1.033787727355957\n",
      "Accuracy: 0.5505999326705933\n",
      "Epoch 36, CIFAR-10 Batch 4:  Loss: 1.221530556678772\n",
      "Accuracy: 0.5591999292373657\n",
      "Epoch 36, CIFAR-10 Batch 5:  Loss: 1.2285897731781006\n",
      "Accuracy: 0.5587999224662781\n",
      "Epoch 37, CIFAR-10 Batch 1:  Loss: 1.2619372606277466\n",
      "Accuracy: 0.5509999990463257\n",
      "Epoch 37, CIFAR-10 Batch 2:  Loss: 1.2460544109344482\n",
      "Accuracy: 0.5549999475479126\n",
      "Epoch 37, CIFAR-10 Batch 3:  Loss: 1.0426632165908813\n",
      "Accuracy: 0.554599940776825\n",
      "Epoch 37, CIFAR-10 Batch 4:  Loss: 1.2048367261886597\n",
      "Accuracy: 0.5589998960494995\n",
      "Epoch 37, CIFAR-10 Batch 5:  Loss: 1.2117843627929688\n",
      "Accuracy: 0.5535999536514282\n",
      "Epoch 38, CIFAR-10 Batch 1:  Loss: 1.2387669086456299\n",
      "Accuracy: 0.5567999482154846\n",
      "Epoch 38, CIFAR-10 Batch 2:  Loss: 1.2227712869644165\n",
      "Accuracy: 0.5539999604225159\n",
      "Epoch 38, CIFAR-10 Batch 3:  Loss: 1.0486595630645752\n",
      "Accuracy: 0.5541999340057373\n",
      "Epoch 38, CIFAR-10 Batch 4:  Loss: 1.2068544626235962\n",
      "Accuracy: 0.5667999386787415\n",
      "Epoch 38, CIFAR-10 Batch 5:  Loss: 1.2156084775924683\n",
      "Accuracy: 0.5604000091552734\n",
      "Epoch 39, CIFAR-10 Batch 1:  Loss: 1.2683311700820923\n",
      "Accuracy: 0.553399920463562\n",
      "Epoch 39, CIFAR-10 Batch 2:  Loss: 1.2164357900619507\n",
      "Accuracy: 0.5509998798370361\n",
      "Epoch 39, CIFAR-10 Batch 3:  Loss: 1.0567206144332886\n",
      "Accuracy: 0.5607999563217163\n",
      "Epoch 39, CIFAR-10 Batch 4:  Loss: 1.201256513595581\n",
      "Accuracy: 0.5629999041557312\n",
      "Epoch 39, CIFAR-10 Batch 5:  Loss: 1.2194008827209473\n",
      "Accuracy: 0.5587999224662781\n",
      "Epoch 40, CIFAR-10 Batch 1:  Loss: 1.2349393367767334\n",
      "Accuracy: 0.5519999265670776\n",
      "Epoch 40, CIFAR-10 Batch 2:  Loss: 1.208297848701477\n",
      "Accuracy: 0.5549999475479126\n",
      "Epoch 40, CIFAR-10 Batch 3:  Loss: 1.025997519493103\n",
      "Accuracy: 0.5605999231338501\n",
      "Epoch 40, CIFAR-10 Batch 4:  Loss: 1.2099330425262451\n",
      "Accuracy: 0.556999921798706\n",
      "Epoch 40, CIFAR-10 Batch 5:  Loss: 1.2237884998321533\n",
      "Accuracy: 0.5601999759674072\n"
     ]
    }
   ],
   "source": [
    "\"\"\"\n",
    "DON'T MODIFY ANYTHING IN THIS CELL\n",
    "\"\"\"\n",
    "save_model_path = './image_classification'\n",
    "\n",
    "print('Training...')\n",
    "with tf.Session() as sess:\n",
    "    # Initializing the variables\n",
    "    sess.run(tf.global_variables_initializer())\n",
    "    \n",
    "    # Training cycle\n",
    "    for epoch in range(epochs):\n",
    "        # Loop over all batches\n",
    "        n_batches = 5\n",
    "        for batch_i in range(1, n_batches + 1):\n",
    "            for batch_features, batch_labels in helper.load_preprocess_training_batch(batch_i, batch_size):\n",
    "                train_neural_network(sess, optimizer, keep_probability, batch_features, batch_labels)\n",
    "            print('Epoch {:>2}, CIFAR-10 Batch {}:  '.format(epoch + 1, batch_i), end='')\n",
    "            print_stats(sess, batch_features, batch_labels, cost, accuracy)\n",
    "            \n",
    "    # Save Model\n",
    "    saver = tf.train.Saver()\n",
    "    save_path = saver.save(sess, save_model_path)"
   ]
  },
  {
   "cell_type": "markdown",
   "metadata": {
    "deletable": true,
    "editable": true
   },
   "source": [
    "# Checkpoint\n",
    "The model has been saved to disk.\n",
    "## Test Model\n",
    "Test your model against the test dataset.  This will be your final accuracy. You should have an accuracy greater than 50%. If you don't, keep tweaking the model architecture and parameters."
   ]
  },
  {
   "cell_type": "code",
   "execution_count": 267,
   "metadata": {
    "collapsed": false,
    "deletable": true,
    "editable": true,
    "scrolled": true
   },
   "outputs": [
    {
     "name": "stdout",
     "output_type": "stream",
     "text": [
      "Testing Accuracy: 0.559812898089172\n",
      "\n"
     ]
    },
    {
     "data": {
      "image/png": "[encoded data removed]",
      "text/plain": [
       "<matplotlib.figure.Figure at 0x7f57ed07fef0>"
      ]
     },
     "metadata": {
      "image/png": {
       "height": 319,
       "width": 355
      }
     },
     "output_type": "display_data"
    }
   ],
   "source": [
    "\"\"\"\n",
    "DON'T MODIFY ANYTHING IN THIS CELL\n",
    "\"\"\"\n",
    "%matplotlib inline\n",
    "%config InlineBackend.figure_format = 'retina'\n",
    "\n",
    "import tensorflow as tf\n",
    "import pickle\n",
    "import helper\n",
    "import random\n",
    "\n",
    "# Set batch size if not already set\n",
    "try:\n",
    "    if batch_size:\n",
    "        pass\n",
    "except NameError:\n",
    "    batch_size = 64\n",
    "\n",
    "save_model_path = './image_classification'\n",
    "n_samples = 4\n",
    "top_n_predictions = 3\n",
    "\n",
    "def test_model():\n",
    "    \"\"\"\n",
    "    Test the saved model against the test dataset\n",
    "    \"\"\"\n",
    "\n",
    "    test_features, test_labels = pickle.load(open('preprocess_training.p', mode='rb'))\n",
    "    loaded_graph = tf.Graph()\n",
    "\n",
    "    with tf.Session(graph=loaded_graph) as sess:\n",
    "        # Load model\n",
    "        loader = tf.train.import_meta_graph(save_model_path + '.meta')\n",
    "        loader.restore(sess, save_model_path)\n",
    "\n",
    "        # Get Tensors from loaded model\n",
    "        loaded_x = loaded_graph.get_tensor_by_name('x:0')\n",
    "        loaded_y = loaded_graph.get_tensor_by_name('y:0')\n",
    "        loaded_keep_prob = loaded_graph.get_tensor_by_name('keep_prob:0')\n",
    "        loaded_logits = loaded_graph.get_tensor_by_name('logits:0')\n",
    "        loaded_acc = loaded_graph.get_tensor_by_name('accuracy:0')\n",
    "        \n",
    "        # Get accuracy in batches for memory limitations\n",
    "        test_batch_acc_total = 0\n",
    "        test_batch_count = 0\n",
    "        \n",
    "        for train_feature_batch, train_label_batch in helper.batch_features_labels(test_features, test_labels, batch_size):\n",
    "            test_batch_acc_total += sess.run(\n",
    "                loaded_acc,\n",
    "                feed_dict={loaded_x: train_feature_batch, loaded_y: train_label_batch, loaded_keep_prob: 1.0})\n",
    "            test_batch_count += 1\n",
    "\n",
    "        print('Testing Accuracy: {}\\n'.format(test_batch_acc_total/test_batch_count))\n",
    "\n",
    "        # Print Random Samples\n",
    "        random_test_features, random_test_labels = tuple(zip(*random.sample(list(zip(test_features, test_labels)), n_samples)))\n",
    "        random_test_predictions = sess.run(\n",
    "            tf.nn.top_k(tf.nn.softmax(loaded_logits), top_n_predictions),\n",
    "            feed_dict={loaded_x: random_test_features, loaded_y: random_test_labels, loaded_keep_prob: 1.0})\n",
    "        helper.display_image_predictions(random_test_features, random_test_labels, random_test_predictions)\n",
    "\n",
    "\n",
    "test_model()"
   ]
  },
  {
   "cell_type": "markdown",
   "metadata": {
    "deletable": true,
    "editable": true
   },
   "source": [
    "## Why 50-70% Accuracy?\n",
    "You might be wondering why you can't get an accuracy any higher. First things first, 50% isn't bad for a simple CNN.  Pure guessing would get you 10% accuracy. However, you might notice people are getting scores [well above 70%](http://rodrigob.github.io/are_we_there_yet/build/classification_datasets_results.html#43494641522d3130).  That's because we haven't taught you all there is to know about neural networks. We still need to cover a few more techniques.\n",
    "## Submitting This Project\n",
    "When submitting this project, make sure to run all the cells before saving the notebook.  Save the notebook file as \"dlnd_image_classification.ipynb\" and save it as a HTML file under \"File\" -> \"Download as\".  Include the \"helper.py\" and \"problem_unittests.py\" files in your submission."
   ]
  }
 ],
 "metadata": {
  "kernelspec": {
   "display_name": "Python 3",
   "language": "python",
   "name": "python3"
  },
  "language_info": {
   "codemirror_mode": {
    "name": "ipython",
    "version": 3
   },
   "file_extension": ".py",
   "mimetype": "text/x-python",
   "name": "python",
   "nbconvert_exporter": "python",
   "pygments_lexer": "ipython3",
   "version": "3.5.2"
  },
  "widgets": {
   "state": {},
   "version": "1.1.2"
  }
 },
 "nbformat": 4,
 "nbformat_minor": 0
}
